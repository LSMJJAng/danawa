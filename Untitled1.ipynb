{
 "cells": [
  {
   "cell_type": "code",
   "execution_count": 1,
   "metadata": {},
   "outputs": [
    {
     "name": "stdout",
     "output_type": "stream",
     "text": [
      "418 50 726 998\n",
      "feet size (cm):  24.43256513026052\n"
     ]
    }
   ],
   "source": [
    "from sklearn.cluster import KMeans\n",
    "import random as rng\n",
    "import cv2\n",
    "import imutils\n",
    "import argparse\n",
    "from imutils import contours\n",
    "from skimage.io import imread\n",
    "import numpy as np\n",
    "import matplotlib.pyplot as plt\n",
    "import os\n",
    "\n",
    "from utils import *\n",
    "\n",
    "\n",
    "ImgPath = 'data/barefeet1.jpeg'\n",
    "\n",
    "\n",
    "\n",
    "\n",
    "def main():\n",
    "\n",
    "    oimg = imread(ImgPath)\n",
    "\n",
    "    if not os.path.exists('output'):\n",
    "        os.makedirs('output')\n",
    "\n",
    "\n",
    "\n",
    "    preprocessedOimg = preprocess(oimg)\n",
    "    cv2.imwrite('output/preprocessedOimg.jpg', preprocessedOimg)\n",
    "\n",
    "    clusteredImg = kMeans_cluster(preprocessedOimg)\n",
    "    cv2.imwrite('output/clusteredImg.jpg', clusteredImg)\n",
    "\n",
    "    edgedImg = edgeDetection(clusteredImg)\n",
    "    cv2.imwrite('output/edgedImg.jpg', edgedImg)\n",
    "\n",
    "    boundRect, contours, contours_poly, img = getBoundingBox(edgedImg)\n",
    "    pdraw = drawCnt(boundRect[1], contours, contours_poly, img)\n",
    "    cv2.imwrite('output/pdraw.jpg', pdraw)\n",
    "\n",
    "\n",
    "    croppedImg, pcropedImg = cropOrig(boundRect[1], clusteredImg)\n",
    "    cv2.imwrite('output/croppedImg.jpg', croppedImg)\n",
    "    \n",
    "\n",
    "    newImg = overlayImage(croppedImg, pcropedImg)\n",
    "    cv2.imwrite('output/newImg.jpg', newImg)\n",
    "\n",
    "    fedged = edgeDetection(newImg)\n",
    "    fboundRect, fcnt, fcntpoly, fimg = getBoundingBox(fedged)\n",
    "    fdraw = drawCnt(fboundRect[2], fcnt, fcntpoly, fimg)\n",
    "    cv2.imwrite('output/fdraw.jpg', fdraw)\n",
    "\n",
    "    print(\"feet size (cm): \", calcFeetSize(pcropedImg, fboundRect)/10)\n",
    "\n",
    "\n",
    "if __name__ == '__main__':\n",
    "    main()"
   ]
  },
  {
   "cell_type": "code",
   "execution_count": null,
   "metadata": {},
   "outputs": [],
   "source": []
  }
 ],
 "metadata": {
  "kernelspec": {
   "display_name": "Python 3",
   "language": "python",
   "name": "python3"
  },
  "language_info": {
   "codemirror_mode": {
    "name": "ipython",
    "version": 3
   },
   "file_extension": ".py",
   "mimetype": "text/x-python",
   "name": "python",
   "nbconvert_exporter": "python",
   "pygments_lexer": "ipython3",
   "version": "3.8.5"
  }
 },
 "nbformat": 4,
 "nbformat_minor": 4
}
